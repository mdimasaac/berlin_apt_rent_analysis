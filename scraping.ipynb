{
 "cells": [
  {
   "cell_type": "code",
   "execution_count": 1,
   "metadata": {},
   "outputs": [],
   "source": [
    "import time\n",
    "import requests\n",
    "from bs4 import BeautifulSoup as bs4\n",
    "import pandas as pd"
   ]
  },
  {
   "cell_type": "code",
   "execution_count": 2,
   "metadata": {},
   "outputs": [],
   "source": [
    "def req(url):\n",
    "    import requests\n",
    "    from bs4 import BeautifulSoup as bs4\n",
    "    response = requests.get(url)\n",
    "    contents = response.content\n",
    "    soup = bs4(contents, \"html.parser\")\n",
    "    return soup"
   ]
  },
  {
   "cell_type": "code",
   "execution_count": 3,
   "metadata": {},
   "outputs": [
    {
     "data": {
      "text/plain": [
       "0"
      ]
     },
     "execution_count": 3,
     "metadata": {},
     "output_type": "execute_result"
    }
   ],
   "source": [
    "x = []\n",
    "len(x)"
   ]
  },
  {
   "cell_type": "code",
   "execution_count": 17,
   "metadata": {},
   "outputs": [],
   "source": [
    "lpage,llink,ladresse,lrent,lroom,lsize=[],[],[],[],[],[]\n",
    "url = \"https://www.immowelt.de/liste/berlin/wohnungen/mieten?d=true&sd=DESC&sf=RELEVANCE&sp=\"\n",
    "for i in range(1,100):\n",
    "    page = url+str(i)\n",
    "    lpage.append(page)\n",
    "for pageurl in lpage:\n",
    "    soup = req(pageurl)\n",
    "    all = soup.find_all(\"div\",{\"class\":\"EstateItem-1c115\"})\n",
    "    if len(all) != 0:\n",
    "        for i in all:\n",
    "            try:\n",
    "                link = i.find(\"a\").get(\"href\")\n",
    "            except:\n",
    "                link = None\n",
    "            try:\n",
    "                adresse = i.find(\"div\", {\"class\":\"IconFact-e8a23\"}).find(\"span\").text\n",
    "            except:\n",
    "                adresse = None\n",
    "            try:\n",
    "                rent = i.find(\"div\",{\"class\":\"KeyFacts-efbce\"}).find(\"div\",{\"data-test\":\"price\"}).text\n",
    "            except:\n",
    "                rent = None\n",
    "            try:\n",
    "                size = i.find(\"div\",{\"class\":\"KeyFacts-efbce\"}).find(\"div\",{\"data-test\":\"area\"}).text\n",
    "            except:\n",
    "                size = None\n",
    "            try:\n",
    "                room = i.find(\"div\",{\"class\":\"KeyFacts-efbce\"}).find(\"div\",{\"data-test\":\"rooms\"}).text\n",
    "            except:\n",
    "                room = None\n",
    "            lroom.append(room)\n",
    "            llink.append(link)\n",
    "            ladresse.append(adresse)\n",
    "            lrent.append(rent)\n",
    "            lsize.append(size)\n",
    "            \n",
    "    else:\n",
    "        break\n",
    "    time.sleep(5)"
   ]
  },
  {
   "cell_type": "code",
   "execution_count": 18,
   "metadata": {},
   "outputs": [
    {
     "data": {
      "text/html": [
       "<div>\n",
       "<style scoped>\n",
       "    .dataframe tbody tr th:only-of-type {\n",
       "        vertical-align: middle;\n",
       "    }\n",
       "\n",
       "    .dataframe tbody tr th {\n",
       "        vertical-align: top;\n",
       "    }\n",
       "\n",
       "    .dataframe thead th {\n",
       "        text-align: right;\n",
       "    }\n",
       "</style>\n",
       "<table border=\"1\" class=\"dataframe\">\n",
       "  <thead>\n",
       "    <tr style=\"text-align: right;\">\n",
       "      <th></th>\n",
       "      <th>link</th>\n",
       "      <th>adresse</th>\n",
       "      <th>rent</th>\n",
       "      <th>rooms</th>\n",
       "      <th>size</th>\n",
       "    </tr>\n",
       "  </thead>\n",
       "  <tbody>\n",
       "    <tr>\n",
       "      <th>0</th>\n",
       "      <td>https://www.immowelt.de/expose/2aqr554</td>\n",
       "      <td>Berlin (Kreuzberg)</td>\n",
       "      <td>620 €</td>\n",
       "      <td>3 Zi.</td>\n",
       "      <td>83 m²</td>\n",
       "    </tr>\n",
       "    <tr>\n",
       "      <th>1</th>\n",
       "      <td>https://www.immowelt.de/expose/2abw253</td>\n",
       "      <td>Berlin (Friedrichshain)</td>\n",
       "      <td>503 €</td>\n",
       "      <td>2.5 Zi.</td>\n",
       "      <td>55 m²</td>\n",
       "    </tr>\n",
       "    <tr>\n",
       "      <th>2</th>\n",
       "      <td>https://www.immowelt.de/expose/2a79752</td>\n",
       "      <td>Stralauer Allee 14a, Berlin (Friedrichshain)</td>\n",
       "      <td>1.750 €</td>\n",
       "      <td>2 Zi.</td>\n",
       "      <td>59 m²</td>\n",
       "    </tr>\n",
       "    <tr>\n",
       "      <th>3</th>\n",
       "      <td>https://www.immowelt.de/expose/2akzn54</td>\n",
       "      <td>Berlin (Charlottenburg)</td>\n",
       "      <td>1.340 €</td>\n",
       "      <td>2 Zi.</td>\n",
       "      <td>85.07 m²</td>\n",
       "    </tr>\n",
       "    <tr>\n",
       "      <th>4</th>\n",
       "      <td>https://www.immowelt.de/expose/29yzr5s</td>\n",
       "      <td>Berlin (Neukölln)</td>\n",
       "      <td>3.258 €</td>\n",
       "      <td>4 Zi.</td>\n",
       "      <td>181.95 m²</td>\n",
       "    </tr>\n",
       "  </tbody>\n",
       "</table>\n",
       "</div>"
      ],
      "text/plain": [
       "                                     link  \\\n",
       "0  https://www.immowelt.de/expose/2aqr554   \n",
       "1  https://www.immowelt.de/expose/2abw253   \n",
       "2  https://www.immowelt.de/expose/2a79752   \n",
       "3  https://www.immowelt.de/expose/2akzn54   \n",
       "4  https://www.immowelt.de/expose/29yzr5s   \n",
       "\n",
       "                                        adresse     rent    rooms       size  \n",
       "0                            Berlin (Kreuzberg)    620 €    3 Zi.      83 m²  \n",
       "1                       Berlin (Friedrichshain)    503 €  2.5 Zi.      55 m²  \n",
       "2  Stralauer Allee 14a, Berlin (Friedrichshain)  1.750 €    2 Zi.      59 m²  \n",
       "3                       Berlin (Charlottenburg)  1.340 €    2 Zi.   85.07 m²  \n",
       "4                             Berlin (Neukölln)  3.258 €    4 Zi.  181.95 m²  "
      ]
     },
     "metadata": {},
     "output_type": "display_data"
    },
    {
     "data": {
      "text/plain": [
       "(667, 5)"
      ]
     },
     "metadata": {},
     "output_type": "display_data"
    },
    {
     "data": {
      "text/plain": [
       "link       0\n",
       "adresse    0\n",
       "rent       0\n",
       "rooms      0\n",
       "size       0\n",
       "dtype: int64"
      ]
     },
     "metadata": {},
     "output_type": "display_data"
    }
   ],
   "source": [
    "df = pd.DataFrame()\n",
    "df[\"link\"] = llink\n",
    "df[\"adresse\"] = ladresse\n",
    "df[\"rent\"] = lrent\n",
    "df[\"rooms\"] = lroom\n",
    "df[\"size\"] = lsize\n",
    "df.to_csv(\"data raw new.csv\", index = False)\n",
    "display(df.head())\n",
    "display(df.shape)\n",
    "display(df.isna().sum())"
   ]
  }
 ],
 "metadata": {
  "kernelspec": {
   "display_name": "Python 3",
   "language": "python",
   "name": "python3"
  },
  "language_info": {
   "codemirror_mode": {
    "name": "ipython",
    "version": 3
   },
   "file_extension": ".py",
   "mimetype": "text/x-python",
   "name": "python",
   "nbconvert_exporter": "python",
   "pygments_lexer": "ipython3",
   "version": "3.10.2"
  },
  "orig_nbformat": 4,
  "vscode": {
   "interpreter": {
    "hash": "1acc24bd1901f9ae8c29efb6830fcc1ca9fe0219dd00f8f1dc1b91856def15a9"
   }
  }
 },
 "nbformat": 4,
 "nbformat_minor": 2
}
