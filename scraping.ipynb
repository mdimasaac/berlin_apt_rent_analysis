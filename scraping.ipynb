{
 "cells": [
  {
   "cell_type": "code",
   "execution_count": 19,
   "metadata": {},
   "outputs": [],
   "source": [
    "import time\n",
    "import requests\n",
    "from bs4 import BeautifulSoup as bs4\n",
    "import pandas as pd"
   ]
  },
  {
   "cell_type": "code",
   "execution_count": 2,
   "metadata": {},
   "outputs": [],
   "source": [
    "def req(url):\n",
    "    import requests\n",
    "    from bs4 import BeautifulSoup as bs4\n",
    "    response = requests.get(url)\n",
    "    contents = response.content\n",
    "    soup = bs4(contents, \"html.parser\")\n",
    "    return soup"
   ]
  },
  {
   "cell_type": "code",
   "execution_count": 3,
   "metadata": {},
   "outputs": [],
   "source": [
    "lpage,llink,ladresse,lrent,lroom,lsize=[],[],[],[],[],[]\n",
    "url = \"https://www.immowelt.de/liste/berlin/wohnungen/mieten?d=true&sd=DESC&sf=RELEVANCE&sp=\"\n",
    "for i in range(1,26):\n",
    "    page = url+str(i)\n",
    "    lpage.append(page)\n",
    "for pageurl in lpage:\n",
    "    soup = req(pageurl)\n",
    "    all = soup.find_all(\"div\",{\"class\":\"EstateItem-1c115\"})\n",
    "    if len(all) != 0:\n",
    "        for i in all:\n",
    "            try:\n",
    "                link = i.find(\"a\").get(\"href\")\n",
    "            except:\n",
    "                link = None\n",
    "            try:\n",
    "                adresse = i.find(\"div\", {\"class\":\"IconFact-e8a23\"}).find(\"span\").text\n",
    "            except:\n",
    "                adresse = None\n",
    "            try:\n",
    "                rent = i.find(\"div\",{\"class\":\"KeyFacts-efbce\"}).find(\"div\",{\"data-test\":\"price\"}).text\n",
    "            except:\n",
    "                rent = None\n",
    "            try:\n",
    "                size = i.find(\"div\",{\"class\":\"KeyFacts-efbce\"}).find(\"div\",{\"data-test\":\"area\"}).text\n",
    "            except:\n",
    "                size = None\n",
    "            try:\n",
    "                room = i.find(\"div\",{\"class\":\"KeyFacts-efbce\"}).find(\"div\",{\"data-test\":\"rooms\"}).text\n",
    "            except:\n",
    "                room = None\n",
    "            lroom.append(room)\n",
    "            llink.append(link)\n",
    "            ladresse.append(adresse)\n",
    "            lrent.append(rent)\n",
    "            lsize.append(size)\n",
    "            \n",
    "    else:\n",
    "        break\n",
    "    time.sleep(5)"
   ]
  },
  {
   "cell_type": "code",
   "execution_count": 4,
   "metadata": {},
   "outputs": [],
   "source": [
    "df = pd.DataFrame()\n",
    "df[\"link\"] = llink\n",
    "df[\"adresse\"] = ladresse\n",
    "df[\"rent\"] = lrent\n",
    "df[\"rooms\"] = lroom\n",
    "df[\"size\"] = lsize\n",
    "df.to_csv(\"data raw.csv\", index = False)"
   ]
  },
  {
   "cell_type": "code",
   "execution_count": 6,
   "metadata": {},
   "outputs": [
    {
     "data": {
      "text/plain": [
       "(500, 5)"
      ]
     },
     "execution_count": 6,
     "metadata": {},
     "output_type": "execute_result"
    }
   ],
   "source": [
    "df.shape"
   ]
  }
 ],
 "metadata": {
  "kernelspec": {
   "display_name": "Python 3",
   "language": "python",
   "name": "python3"
  },
  "language_info": {
   "codemirror_mode": {
    "name": "ipython",
    "version": 3
   },
   "file_extension": ".py",
   "mimetype": "text/x-python",
   "name": "python",
   "nbconvert_exporter": "python",
   "pygments_lexer": "ipython3",
   "version": "3.10.2"
  },
  "orig_nbformat": 4,
  "vscode": {
   "interpreter": {
    "hash": "1acc24bd1901f9ae8c29efb6830fcc1ca9fe0219dd00f8f1dc1b91856def15a9"
   }
  }
 },
 "nbformat": 4,
 "nbformat_minor": 2
}
