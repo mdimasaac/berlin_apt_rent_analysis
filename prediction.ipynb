{
 "cells": [
  {
   "cell_type": "code",
   "execution_count": 2,
   "metadata": {},
   "outputs": [],
   "source": [
    "def mode(df):\n",
    "    m = df.value_counts().head(1).index\n",
    "    return m\n",
    "    \n",
    "def read_data():\n",
    "    df = pd.read_csv(\"data full clean.csv\")\n",
    "    df_pivot = df.pivot_table(index = \"area\",\n",
    "                                values = [\"rent\",\"rooms\",\"year\"],\n",
    "                                aggfunc = {\"rent\":[\"mean\",\"min\",\"max\",mode],\"rooms\":\"count\",\"year\":[\"min\",\"max\"]})\n",
    "    # Read the shapefile-formatted (.shp) file\n",
    "    gdf = gpd.read_file('bezirksgrenzen.shp')\n",
    "    list1 = gdf.index.values.tolist()\n",
    "    list2 = [\"Reinickendorf\",\"Charlottenburg-Wilmersdorf\",\n",
    "            \"Treptow-Köpenick\",\"Pankow\",\"Neukölln\",\"Lichtenberg\",\n",
    "            \"Marzahn-Hellersdorf\",\"Spandau\",\"Steglitz-Zehlendorf\",\n",
    "            \"Mitte\",\"Friedrichshain-Kreuzberg\",\"Tempelhof-Schöneberg\"]\n",
    "    gdf = gdf.rename(index=dict(zip(list1,list2)))\n",
    "    df1 = pd.concat([gdf,df_pivot], axis = 1)\n",
    "    cols = [\"geometry\",\"max_rent\",\"mean_rent\",\"min_rent\",\"mode_rent\",\"available_apartments\",\"newest_building\",\"oldest_building\"]\n",
    "    df1.columns = cols\n",
    "    cols = [\"max_rent\",\"mean_rent\",\"min_rent\",\"mode_rent\"]\n",
    "    for i in cols:\n",
    "        rent = []\n",
    "        for j in df1[i]:\n",
    "            rent.append(round(j,0))\n",
    "        df1[i] = rent\n",
    "    return df,df1"
   ]
  },
  {
   "cell_type": "code",
   "execution_count": 3,
   "metadata": {},
   "outputs": [],
   "source": [
    "def run_pipeline_regr(X_train, X_test, y_train, y_test):\n",
    "    linreg = LinearRegression()\n",
    "    dtreg = DecisionTreeRegressor()\n",
    "    knreg = KNeighborsRegressor()\n",
    "    mlp = MLPRegressor(max_iter = 700)\n",
    "    rfreg = RandomForestRegressor()\n",
    "\n",
    "    model_pipeline = [linreg, dtreg, knreg, mlp, rfreg]\n",
    "    model_name = [\"linreg\",\"decision_tree_reg\",\"knn_reg\",\"mlp\",\"random_forest_reg\"]\n",
    "    scores_train = {}\n",
    "    scores_test = {}\n",
    "    scores_new = {}\n",
    "    preds_train = {}\n",
    "    preds_test = {}\n",
    "    preds_new = {}\n",
    "    for i,j in zip(model_pipeline, model_name):\n",
    "        i.fit(X_train, y_train)\n",
    "        pred_train = i.predict(X_train)\n",
    "        preds_train[j] = pred_train\n",
    "        pred_test = i.predict(X_test)\n",
    "        preds_test[j] = pred_test\n",
    "        mean_score_train = np.mean(cross_val_score(i, X_train, y_train, cv = 5))\n",
    "        scores_train[j] = mean_score_train\n",
    "        mean_score_test = np.mean(cross_val_score(i, X_test, y_test, cv = 5))\n",
    "        scores_test[j] = mean_score_test\n",
    "\n",
    "    return preds_train, preds_test, scores_train, scores_test"
   ]
  },
  {
   "cell_type": "code",
   "execution_count": 13,
   "metadata": {},
   "outputs": [],
   "source": [
    "def grid_search(model,X_train,y_train):\n",
    "    from sklearn.model_selection import GridSearchCV\n",
    "    if model == \"dtreg\":\n",
    "        from sklearn.tree import DecisionTreeRegressor\n",
    "        max_depth_choices= [3,4,5,6,7,None]\n",
    "        criterion_choices = ['squared_error','absolute_error']\n",
    "        min_samples_split_choices = [2,3,4,5,6,7]\n",
    "        min_samples_leaf_choices = [2,3,4,5,6,7]\n",
    "        max_features_choices = [2,3,4, None]\n",
    "        model = DecisionTreeRegressor()\n",
    "        grid = {'max_depth': max_depth_choices,\n",
    "        'criterion': criterion_choices,\n",
    "        'min_samples_split': min_samples_split_choices,\n",
    "        'min_samples_leaf': min_samples_leaf_choices}\n",
    "    elif model == \"knreg\":\n",
    "        from sklearn.neighbors import KNeighborsRegressor\n",
    "        neighbor = [3,4,5,6,7]\n",
    "        weight = [\"uniform\",\"distance\"]\n",
    "        alg = [\"auto\"]\n",
    "        model = KNeighborsRegressor()\n",
    "        grid = {\"n_neighbors\": neighbor,\n",
    "        \"weights\": weight,\n",
    "        \"algorithm\": alg}\n",
    "    elif model == \"mlp\":\n",
    "        from sklearn.neural_network import MLPRegressor\n",
    "        maxiter = [200, 300, 400, 500, 600, 700]\n",
    "        model = MLPRegressor()\n",
    "        grid = {\"max_iter\": maxiter}\n",
    "    elif model == \"rfreg\":\n",
    "        from sklearn.ensemble import RandomForestRegressor\n",
    "        minsamplesplit = [2,3,4,5,6,7]\n",
    "        minsamplesleaf = [2,3,4,5,6,7]\n",
    "        maxdepth = [3,4,5,6,7,None]\n",
    "        crit = ['squared_error','absolute_error']\n",
    "        model = RandomForestRegressor()\n",
    "        grid = {\"max_depth\":maxdepth, \"min_samples_split\":minsamplesplit,\n",
    "        \"min_samples_leaf\":minsamplesleaf, \"criterion\":crit}\n",
    "    grid_search = GridSearchCV(estimator = model, param_grid = grid, cv = 5)\n",
    "    grid_search.fit(X_train, y_train)\n",
    "    print(model)\n",
    "    print(grid_search.best_params_)\n",
    "    print(grid_search.best_score_)\n"
   ]
  },
  {
   "cell_type": "code",
   "execution_count": 9,
   "metadata": {},
   "outputs": [],
   "source": [
    "def preprocessing(X,y):\n",
    "    display(X.shape)\n",
    "    df_corr = pd.concat([X,y], axis = 1).corr()\n",
    "    cols_to_drop = df_corr[df_corr[\"rent\"] < 0.8].index.tolist()\n",
    "    while len(cols_to_drop) != 0:\n",
    "        X = X.drop(columns = cols_to_drop)\n",
    "        df_corr = pd.concat([X,y], axis = 1).corr()\n",
    "        cols_to_drop = df_corr[df_corr[\"rent\"] < 0.8].index.tolist()\n",
    "        display(X.shape)\n",
    "    from sklearn.model_selection import train_test_split\n",
    "    X_train, X_test, y_train, y_test = train_test_split(X,y, test_size = 0.2, random_state = 43)\n",
    "    num_train = X_train.select_dtypes(np.number)\n",
    "    num_test = X_test.select_dtypes(np.number)\n",
    "    cat_train = X_train.select_dtypes(object)\n",
    "    cat_test = X_test.select_dtypes(object)\n",
    "\n",
    "    from sklearn.preprocessing import MinMaxScaler\n",
    "    scaler = MinMaxScaler().fit(num_train)\n",
    "    cols = scaler.get_feature_names_out(input_features = num_train.columns)\n",
    "    num_train_scaled = scaler.transform(num_train)\n",
    "    num_test_scaled = scaler.transform(num_test)\n",
    "    num_train_scaled = pd.DataFrame(num_train_scaled, columns = cols)\n",
    "    num_test_scaled = pd.DataFrame(num_test_scaled, columns = cols)\n",
    "\n",
    "    from sklearn.preprocessing import OneHotEncoder\n",
    "    encoder = OneHotEncoder(handle_unknown = \"ignore\").fit(cat_train)\n",
    "    cat_train = encoder.transform(cat_train).toarray()\n",
    "    cat_test = encoder.transform(cat_test).toarray()\n",
    "    cat_train_encoded = pd.DataFrame(cat_train)\n",
    "    cat_test_encoded = pd.DataFrame(cat_test)\n",
    "    cat_train_encoded = cat_train_encoded.reset_index(drop=True)\n",
    "    cat_test_encoded = cat_test_encoded.reset_index(drop=True)\n",
    "    X_train_processed = pd.concat([num_train_scaled, cat_train_encoded], axis=1)\n",
    "    X_test_processed = pd.concat([num_test_scaled, cat_test_encoded], axis=1)\n",
    "    return X_train_processed, X_test_processed, y_train, y_test\n",
    "    "
   ]
  },
  {
   "cell_type": "code",
   "execution_count": 1,
   "metadata": {},
   "outputs": [],
   "source": [
    "import streamlit as st\n",
    "import time\n",
    "import pandas as pd\n",
    "import geopandas as gpd\n",
    "import numpy as np"
   ]
  },
  {
   "cell_type": "code",
   "execution_count": 5,
   "metadata": {},
   "outputs": [],
   "source": [
    "pd.set_option('display.max_columns', None)"
   ]
  },
  {
   "cell_type": "code",
   "execution_count": 10,
   "metadata": {},
   "outputs": [],
   "source": [
    "df,df1 = read_data()\n",
    "df01 = df.iloc[:,:9]\n",
    "df02 = df.iloc[:,9:-1]\n",
    "df03 = df[[\"year\"]]\n",
    "df01 = df01.drop(columns = [\"link\",\"addresse\"])\n",
    "df02num = df02.select_dtypes(np.number)\n",
    "df02obj = df02.select_dtypes(object)\n",
    "\n",
    "for col in df02obj.columns:\n",
    "    l = []\n",
    "    for i in df02obj[col]:\n",
    "        if i == \"0\":\n",
    "            l.append(\"no info\")\n",
    "        else:\n",
    "            l.append(i)\n",
    "    df02obj[col] = l\n",
    "data = pd.concat([df01,df02num,df02obj,df03], axis = 1)\n",
    "col = [\"pets_allowed\",\"person_elevator\"]\n",
    "for i in col:\n",
    "    data[i] = data[i].astype(\"int64\")\n",
    "X = data.drop(columns = [\"rent\"])\n",
    "y = data[\"rent\"]"
   ]
  },
  {
   "cell_type": "code",
   "execution_count": 11,
   "metadata": {},
   "outputs": [
    {
     "data": {
      "text/plain": [
       "(407, 37)"
      ]
     },
     "metadata": {},
     "output_type": "display_data"
    },
    {
     "data": {
      "text/plain": [
       "(407, 13)"
      ]
     },
     "metadata": {},
     "output_type": "display_data"
    }
   ],
   "source": [
    "X_train_processed, X_test_processed, y_train, y_test = preprocessing (X,y)"
   ]
  },
  {
   "cell_type": "code",
   "execution_count": 14,
   "metadata": {},
   "outputs": [
    {
     "name": "stdout",
     "output_type": "stream",
     "text": [
      "DecisionTreeRegressor()\n",
      "{'criterion': 'absolute_error', 'max_depth': 5, 'min_samples_leaf': 7, 'min_samples_split': 4}\n",
      "0.6966047456819042\n",
      "KNeighborsRegressor()\n",
      "{'algorithm': 'auto', 'n_neighbors': 3, 'weights': 'distance'}\n",
      "0.5219697686256035\n",
      "MLPRegressor()\n",
      "{'max_iter': 700}\n",
      "0.12155517581916098\n",
      "RandomForestRegressor()\n",
      "{'criterion': 'absolute_error', 'max_depth': 7, 'min_samples_leaf': 5, 'min_samples_split': 3}\n",
      "0.7590302129948594\n"
     ]
    }
   ],
   "source": [
    "model = [\"dtreg\", \"knreg\", \"mlp\", \"rfreg\"]\n",
    "for i in model:\n",
    "    grid_search(i, X_train_processed, y_train)"
   ]
  },
  {
   "cell_type": "code",
   "execution_count": 15,
   "metadata": {},
   "outputs": [
    {
     "name": "stdout",
     "output_type": "stream",
     "text": [
      "DecisionTreeRegressor()\n",
      "{'criterion': 'absolute_error', 'max_depth': 4, 'min_samples_leaf': 6, 'min_samples_split': 2}\n",
      "0.6826295769465567\n",
      "KNeighborsRegressor()\n",
      "{'algorithm': 'auto', 'n_neighbors': 5, 'weights': 'distance'}\n",
      "0.004228078545188252\n",
      "MLPRegressor()\n",
      "{'max_iter': 700}\n",
      "-1.5523642164283682\n",
      "RandomForestRegressor()\n",
      "{'criterion': 'absolute_error', 'max_depth': None, 'min_samples_leaf': 4, 'min_samples_split': 7}\n",
      "0.6680000473539521\n"
     ]
    }
   ],
   "source": [
    "model = [\"dtreg\", \"knreg\", \"mlp\", \"rfreg\"]\n",
    "for i in model:\n",
    "    grid_search(i, X_test_processed, y_test)"
   ]
  },
  {
   "cell_type": "code",
   "execution_count": null,
   "metadata": {},
   "outputs": [],
   "source": []
  },
  {
   "cell_type": "code",
   "execution_count": 19,
   "metadata": {},
   "outputs": [],
   "source": [
    "from sklearn.linear_model import LinearRegression\n",
    "from sklearn.model_selection import cross_val_score\n",
    "from sklearn.metrics import r2_score\n",
    "import warnings\n",
    "warnings.simplefilter(action='ignore', category=FutureWarning)\n",
    "from warnings import simplefilter\n",
    "from sklearn.exceptions import ConvergenceWarning\n",
    "simplefilter(\"ignore\", category=ConvergenceWarning)\n",
    "\n",
    "regr = RandomForestRegressor(criterion= 'absolute_error',\n",
    "                            max_depth= None,\n",
    "                            min_samples_leaf= 4,\n",
    "                            min_samples_split= 7)\n",
    "regr.fit(X_train_processed, y_train)\n",
    "pred_test = regr.predict(X_test_processed)\n",
    "mean_score_train = np.mean(cross_val_score(regr, X_train_processed, y_train, cv = 5))\n",
    "mean_score_test = np.mean(cross_val_score(regr, X_test_processed, y_test, cv = 5))"
   ]
  },
  {
   "cell_type": "code",
   "execution_count": 27,
   "metadata": {},
   "outputs": [
    {
     "data": {
      "application/vnd.plotly.v1+json": {
       "config": {
        "plotlyServerURL": "https://plot.ly"
       },
       "data": [
        {
         "mode": "lines+markers",
         "name": "actual price",
         "type": "scatter",
         "x": [
          0,
          1,
          2,
          3,
          4,
          5,
          6,
          7,
          8,
          9,
          10,
          11,
          12,
          13,
          14,
          15,
          16,
          17,
          18,
          19,
          20,
          21,
          22,
          23,
          24,
          25,
          26,
          27,
          28,
          29,
          30,
          31,
          32,
          33,
          34,
          35,
          36,
          37,
          38,
          39,
          40,
          41,
          42,
          43,
          44,
          45,
          46,
          47,
          48,
          49,
          50,
          51,
          52,
          53,
          54,
          55,
          56,
          57,
          58,
          59,
          60,
          61,
          62,
          63,
          64,
          65,
          66,
          67,
          68,
          69,
          70,
          71,
          72,
          73,
          74,
          75,
          76,
          77,
          78,
          79,
          80,
          81
         ],
         "y": [
          850,
          1405.6,
          8500,
          1500,
          3370,
          1600,
          2050,
          3500,
          2500,
          2720,
          2735,
          2150,
          1700,
          3600,
          3850,
          1950,
          699.6,
          725,
          1670,
          2676.7,
          2290,
          2850,
          2720,
          1900,
          15000,
          900,
          899,
          857.45,
          800,
          1100,
          1500,
          10500,
          2750,
          489.7,
          3900,
          1391,
          1400,
          2560,
          1000,
          1249,
          2040,
          618,
          3050,
          1782,
          2685,
          896.4,
          2300,
          1400,
          2350,
          1250,
          2181.39,
          2800,
          3500,
          1205,
          1800,
          2200,
          823.03,
          1590,
          1365,
          2000,
          1892.44,
          3160,
          1400,
          1650,
          1500,
          2820,
          1380,
          1240,
          687.25,
          1900,
          1750,
          1950,
          1830,
          697.2,
          1750,
          1830,
          2300,
          1300,
          2850,
          2350,
          1600,
          1300
         ]
        },
        {
         "mode": "lines+markers",
         "name": "predicted price",
         "type": "scatter",
         "x": [
          0,
          1,
          2,
          3,
          4,
          5,
          6,
          7,
          8,
          9,
          10,
          11,
          12,
          13,
          14,
          15,
          16,
          17,
          18,
          19,
          20,
          21,
          22,
          23,
          24,
          25,
          26,
          27,
          28,
          29,
          30,
          31,
          32,
          33,
          34,
          35,
          36,
          37,
          38,
          39,
          40,
          41,
          42,
          43,
          44,
          45,
          46,
          47,
          48,
          49,
          50,
          51,
          52,
          53,
          54,
          55,
          56,
          57,
          58,
          59,
          60,
          61,
          62,
          63,
          64,
          65,
          66,
          67,
          68,
          69,
          70,
          71,
          72,
          73,
          74,
          75,
          76,
          77,
          78,
          79,
          80,
          81
         ],
         "y": [
          786.5768499999999,
          1255.4194,
          5855.229,
          1624.5106000000003,
          3453.5710000000004,
          1695.2278,
          2495.6839999999997,
          3411.92,
          2491.4806000000003,
          2453.03,
          2515.9394,
          2234.48,
          1694.3671000000002,
          3463.796,
          3625.3705000000004,
          1687.2164500000001,
          772.6173999999999,
          791.9155000000001,
          1629.7905,
          2490.2434000000003,
          2661.9818000000005,
          2564.0267000000003,
          2436.4078,
          1744.6579499999996,
          7642.475,
          787.9904999999999,
          826.25885,
          769.2952,
          781.33445,
          1339.8399,
          1706.3143,
          7071.510499999999,
          2539.345,
          458.57265000000007,
          5262.266,
          1157.8038999999999,
          1247.03645,
          2466.2206,
          1217.8492999999999,
          1183.83045,
          2439.9742,
          659.9845000000001,
          3318.7610000000004,
          1761.5031000000004,
          2677.439,
          798.5100500000001,
          2449.715,
          1185.0875999999998,
          2643.2068000000004,
          1175.0261999999996,
          2475.34,
          2447.3586000000005,
          3474.96,
          1166.1910999999998,
          1803.5007500000002,
          2235.5378,
          757.0146,
          1800.89305,
          1201.6372,
          2371.4067,
          1764.2843999999996,
          3387.20145,
          1300.3895,
          1821.9139999999998,
          1617.7684000000002,
          2530.6894,
          1206.0230000000001,
          1308.31955,
          776.3543,
          1776.0002000000002,
          1800.10025,
          1696.4089500000002,
          1787.27755,
          821.2057,
          1823.1573,
          1870.0425,
          2400.1861000000004,
          1209.1009999999997,
          2333.8006,
          2317.5978,
          1703.3685999999998,
          1196.7034500000002
         ]
        }
       ],
       "layout": {
        "template": {
         "data": {
          "bar": [
           {
            "error_x": {
             "color": "#f2f5fa"
            },
            "error_y": {
             "color": "#f2f5fa"
            },
            "marker": {
             "line": {
              "color": "rgb(17,17,17)",
              "width": 0.5
             },
             "pattern": {
              "fillmode": "overlay",
              "size": 10,
              "solidity": 0.2
             }
            },
            "type": "bar"
           }
          ],
          "barpolar": [
           {
            "marker": {
             "line": {
              "color": "rgb(17,17,17)",
              "width": 0.5
             },
             "pattern": {
              "fillmode": "overlay",
              "size": 10,
              "solidity": 0.2
             }
            },
            "type": "barpolar"
           }
          ],
          "carpet": [
           {
            "aaxis": {
             "endlinecolor": "#A2B1C6",
             "gridcolor": "#506784",
             "linecolor": "#506784",
             "minorgridcolor": "#506784",
             "startlinecolor": "#A2B1C6"
            },
            "baxis": {
             "endlinecolor": "#A2B1C6",
             "gridcolor": "#506784",
             "linecolor": "#506784",
             "minorgridcolor": "#506784",
             "startlinecolor": "#A2B1C6"
            },
            "type": "carpet"
           }
          ],
          "choropleth": [
           {
            "colorbar": {
             "outlinewidth": 0,
             "ticks": ""
            },
            "type": "choropleth"
           }
          ],
          "contour": [
           {
            "colorbar": {
             "outlinewidth": 0,
             "ticks": ""
            },
            "colorscale": [
             [
              0,
              "#0d0887"
             ],
             [
              0.1111111111111111,
              "#46039f"
             ],
             [
              0.2222222222222222,
              "#7201a8"
             ],
             [
              0.3333333333333333,
              "#9c179e"
             ],
             [
              0.4444444444444444,
              "#bd3786"
             ],
             [
              0.5555555555555556,
              "#d8576b"
             ],
             [
              0.6666666666666666,
              "#ed7953"
             ],
             [
              0.7777777777777778,
              "#fb9f3a"
             ],
             [
              0.8888888888888888,
              "#fdca26"
             ],
             [
              1,
              "#f0f921"
             ]
            ],
            "type": "contour"
           }
          ],
          "contourcarpet": [
           {
            "colorbar": {
             "outlinewidth": 0,
             "ticks": ""
            },
            "type": "contourcarpet"
           }
          ],
          "heatmap": [
           {
            "colorbar": {
             "outlinewidth": 0,
             "ticks": ""
            },
            "colorscale": [
             [
              0,
              "#0d0887"
             ],
             [
              0.1111111111111111,
              "#46039f"
             ],
             [
              0.2222222222222222,
              "#7201a8"
             ],
             [
              0.3333333333333333,
              "#9c179e"
             ],
             [
              0.4444444444444444,
              "#bd3786"
             ],
             [
              0.5555555555555556,
              "#d8576b"
             ],
             [
              0.6666666666666666,
              "#ed7953"
             ],
             [
              0.7777777777777778,
              "#fb9f3a"
             ],
             [
              0.8888888888888888,
              "#fdca26"
             ],
             [
              1,
              "#f0f921"
             ]
            ],
            "type": "heatmap"
           }
          ],
          "heatmapgl": [
           {
            "colorbar": {
             "outlinewidth": 0,
             "ticks": ""
            },
            "colorscale": [
             [
              0,
              "#0d0887"
             ],
             [
              0.1111111111111111,
              "#46039f"
             ],
             [
              0.2222222222222222,
              "#7201a8"
             ],
             [
              0.3333333333333333,
              "#9c179e"
             ],
             [
              0.4444444444444444,
              "#bd3786"
             ],
             [
              0.5555555555555556,
              "#d8576b"
             ],
             [
              0.6666666666666666,
              "#ed7953"
             ],
             [
              0.7777777777777778,
              "#fb9f3a"
             ],
             [
              0.8888888888888888,
              "#fdca26"
             ],
             [
              1,
              "#f0f921"
             ]
            ],
            "type": "heatmapgl"
           }
          ],
          "histogram": [
           {
            "marker": {
             "pattern": {
              "fillmode": "overlay",
              "size": 10,
              "solidity": 0.2
             }
            },
            "type": "histogram"
           }
          ],
          "histogram2d": [
           {
            "colorbar": {
             "outlinewidth": 0,
             "ticks": ""
            },
            "colorscale": [
             [
              0,
              "#0d0887"
             ],
             [
              0.1111111111111111,
              "#46039f"
             ],
             [
              0.2222222222222222,
              "#7201a8"
             ],
             [
              0.3333333333333333,
              "#9c179e"
             ],
             [
              0.4444444444444444,
              "#bd3786"
             ],
             [
              0.5555555555555556,
              "#d8576b"
             ],
             [
              0.6666666666666666,
              "#ed7953"
             ],
             [
              0.7777777777777778,
              "#fb9f3a"
             ],
             [
              0.8888888888888888,
              "#fdca26"
             ],
             [
              1,
              "#f0f921"
             ]
            ],
            "type": "histogram2d"
           }
          ],
          "histogram2dcontour": [
           {
            "colorbar": {
             "outlinewidth": 0,
             "ticks": ""
            },
            "colorscale": [
             [
              0,
              "#0d0887"
             ],
             [
              0.1111111111111111,
              "#46039f"
             ],
             [
              0.2222222222222222,
              "#7201a8"
             ],
             [
              0.3333333333333333,
              "#9c179e"
             ],
             [
              0.4444444444444444,
              "#bd3786"
             ],
             [
              0.5555555555555556,
              "#d8576b"
             ],
             [
              0.6666666666666666,
              "#ed7953"
             ],
             [
              0.7777777777777778,
              "#fb9f3a"
             ],
             [
              0.8888888888888888,
              "#fdca26"
             ],
             [
              1,
              "#f0f921"
             ]
            ],
            "type": "histogram2dcontour"
           }
          ],
          "mesh3d": [
           {
            "colorbar": {
             "outlinewidth": 0,
             "ticks": ""
            },
            "type": "mesh3d"
           }
          ],
          "parcoords": [
           {
            "line": {
             "colorbar": {
              "outlinewidth": 0,
              "ticks": ""
             }
            },
            "type": "parcoords"
           }
          ],
          "pie": [
           {
            "automargin": true,
            "type": "pie"
           }
          ],
          "scatter": [
           {
            "marker": {
             "line": {
              "color": "#283442"
             }
            },
            "type": "scatter"
           }
          ],
          "scatter3d": [
           {
            "line": {
             "colorbar": {
              "outlinewidth": 0,
              "ticks": ""
             }
            },
            "marker": {
             "colorbar": {
              "outlinewidth": 0,
              "ticks": ""
             }
            },
            "type": "scatter3d"
           }
          ],
          "scattercarpet": [
           {
            "marker": {
             "colorbar": {
              "outlinewidth": 0,
              "ticks": ""
             }
            },
            "type": "scattercarpet"
           }
          ],
          "scattergeo": [
           {
            "marker": {
             "colorbar": {
              "outlinewidth": 0,
              "ticks": ""
             }
            },
            "type": "scattergeo"
           }
          ],
          "scattergl": [
           {
            "marker": {
             "line": {
              "color": "#283442"
             }
            },
            "type": "scattergl"
           }
          ],
          "scattermapbox": [
           {
            "marker": {
             "colorbar": {
              "outlinewidth": 0,
              "ticks": ""
             }
            },
            "type": "scattermapbox"
           }
          ],
          "scatterpolar": [
           {
            "marker": {
             "colorbar": {
              "outlinewidth": 0,
              "ticks": ""
             }
            },
            "type": "scatterpolar"
           }
          ],
          "scatterpolargl": [
           {
            "marker": {
             "colorbar": {
              "outlinewidth": 0,
              "ticks": ""
             }
            },
            "type": "scatterpolargl"
           }
          ],
          "scatterternary": [
           {
            "marker": {
             "colorbar": {
              "outlinewidth": 0,
              "ticks": ""
             }
            },
            "type": "scatterternary"
           }
          ],
          "surface": [
           {
            "colorbar": {
             "outlinewidth": 0,
             "ticks": ""
            },
            "colorscale": [
             [
              0,
              "#0d0887"
             ],
             [
              0.1111111111111111,
              "#46039f"
             ],
             [
              0.2222222222222222,
              "#7201a8"
             ],
             [
              0.3333333333333333,
              "#9c179e"
             ],
             [
              0.4444444444444444,
              "#bd3786"
             ],
             [
              0.5555555555555556,
              "#d8576b"
             ],
             [
              0.6666666666666666,
              "#ed7953"
             ],
             [
              0.7777777777777778,
              "#fb9f3a"
             ],
             [
              0.8888888888888888,
              "#fdca26"
             ],
             [
              1,
              "#f0f921"
             ]
            ],
            "type": "surface"
           }
          ],
          "table": [
           {
            "cells": {
             "fill": {
              "color": "#506784"
             },
             "line": {
              "color": "rgb(17,17,17)"
             }
            },
            "header": {
             "fill": {
              "color": "#2a3f5f"
             },
             "line": {
              "color": "rgb(17,17,17)"
             }
            },
            "type": "table"
           }
          ]
         },
         "layout": {
          "annotationdefaults": {
           "arrowcolor": "#f2f5fa",
           "arrowhead": 0,
           "arrowwidth": 1
          },
          "autotypenumbers": "strict",
          "coloraxis": {
           "colorbar": {
            "outlinewidth": 0,
            "ticks": ""
           }
          },
          "colorscale": {
           "diverging": [
            [
             0,
             "#8e0152"
            ],
            [
             0.1,
             "#c51b7d"
            ],
            [
             0.2,
             "#de77ae"
            ],
            [
             0.3,
             "#f1b6da"
            ],
            [
             0.4,
             "#fde0ef"
            ],
            [
             0.5,
             "#f7f7f7"
            ],
            [
             0.6,
             "#e6f5d0"
            ],
            [
             0.7,
             "#b8e186"
            ],
            [
             0.8,
             "#7fbc41"
            ],
            [
             0.9,
             "#4d9221"
            ],
            [
             1,
             "#276419"
            ]
           ],
           "sequential": [
            [
             0,
             "#0d0887"
            ],
            [
             0.1111111111111111,
             "#46039f"
            ],
            [
             0.2222222222222222,
             "#7201a8"
            ],
            [
             0.3333333333333333,
             "#9c179e"
            ],
            [
             0.4444444444444444,
             "#bd3786"
            ],
            [
             0.5555555555555556,
             "#d8576b"
            ],
            [
             0.6666666666666666,
             "#ed7953"
            ],
            [
             0.7777777777777778,
             "#fb9f3a"
            ],
            [
             0.8888888888888888,
             "#fdca26"
            ],
            [
             1,
             "#f0f921"
            ]
           ],
           "sequentialminus": [
            [
             0,
             "#0d0887"
            ],
            [
             0.1111111111111111,
             "#46039f"
            ],
            [
             0.2222222222222222,
             "#7201a8"
            ],
            [
             0.3333333333333333,
             "#9c179e"
            ],
            [
             0.4444444444444444,
             "#bd3786"
            ],
            [
             0.5555555555555556,
             "#d8576b"
            ],
            [
             0.6666666666666666,
             "#ed7953"
            ],
            [
             0.7777777777777778,
             "#fb9f3a"
            ],
            [
             0.8888888888888888,
             "#fdca26"
            ],
            [
             1,
             "#f0f921"
            ]
           ]
          },
          "colorway": [
           "#636efa",
           "#EF553B",
           "#00cc96",
           "#ab63fa",
           "#FFA15A",
           "#19d3f3",
           "#FF6692",
           "#B6E880",
           "#FF97FF",
           "#FECB52"
          ],
          "font": {
           "color": "#f2f5fa"
          },
          "geo": {
           "bgcolor": "rgb(17,17,17)",
           "lakecolor": "rgb(17,17,17)",
           "landcolor": "rgb(17,17,17)",
           "showlakes": true,
           "showland": true,
           "subunitcolor": "#506784"
          },
          "hoverlabel": {
           "align": "left"
          },
          "hovermode": "closest",
          "mapbox": {
           "style": "dark"
          },
          "paper_bgcolor": "rgb(17,17,17)",
          "plot_bgcolor": "rgb(17,17,17)",
          "polar": {
           "angularaxis": {
            "gridcolor": "#506784",
            "linecolor": "#506784",
            "ticks": ""
           },
           "bgcolor": "rgb(17,17,17)",
           "radialaxis": {
            "gridcolor": "#506784",
            "linecolor": "#506784",
            "ticks": ""
           }
          },
          "scene": {
           "xaxis": {
            "backgroundcolor": "rgb(17,17,17)",
            "gridcolor": "#506784",
            "gridwidth": 2,
            "linecolor": "#506784",
            "showbackground": true,
            "ticks": "",
            "zerolinecolor": "#C8D4E3"
           },
           "yaxis": {
            "backgroundcolor": "rgb(17,17,17)",
            "gridcolor": "#506784",
            "gridwidth": 2,
            "linecolor": "#506784",
            "showbackground": true,
            "ticks": "",
            "zerolinecolor": "#C8D4E3"
           },
           "zaxis": {
            "backgroundcolor": "rgb(17,17,17)",
            "gridcolor": "#506784",
            "gridwidth": 2,
            "linecolor": "#506784",
            "showbackground": true,
            "ticks": "",
            "zerolinecolor": "#C8D4E3"
           }
          },
          "shapedefaults": {
           "line": {
            "color": "#f2f5fa"
           }
          },
          "sliderdefaults": {
           "bgcolor": "#C8D4E3",
           "bordercolor": "rgb(17,17,17)",
           "borderwidth": 1,
           "tickwidth": 0
          },
          "ternary": {
           "aaxis": {
            "gridcolor": "#506784",
            "linecolor": "#506784",
            "ticks": ""
           },
           "baxis": {
            "gridcolor": "#506784",
            "linecolor": "#506784",
            "ticks": ""
           },
           "bgcolor": "rgb(17,17,17)",
           "caxis": {
            "gridcolor": "#506784",
            "linecolor": "#506784",
            "ticks": ""
           }
          },
          "title": {
           "x": 0.05
          },
          "updatemenudefaults": {
           "bgcolor": "#506784",
           "borderwidth": 0
          },
          "xaxis": {
           "automargin": true,
           "gridcolor": "#283442",
           "linecolor": "#506784",
           "ticks": "",
           "title": {
            "standoff": 15
           },
           "zerolinecolor": "#283442",
           "zerolinewidth": 2
          },
          "yaxis": {
           "automargin": true,
           "gridcolor": "#283442",
           "linecolor": "#506784",
           "ticks": "",
           "title": {
            "standoff": 15
           },
           "zerolinecolor": "#283442",
           "zerolinewidth": 2
          }
         }
        },
        "title": {
         "text": "rent prediction"
        }
       }
      }
     },
     "metadata": {},
     "output_type": "display_data"
    }
   ],
   "source": [
    "import plotly.graph_objs as go\n",
    "\n",
    "\n",
    "x = list(range(y_test.shape[0]))\n",
    "y1 = y_test\n",
    "y2 = pred_test\n",
    "\n",
    "trace1 = go.Scatter(x=x,y=y1, mode = \"lines+markers\", name = \"actual price\")\n",
    "trace2 = go.Scatter(x=x,y=y2, mode = \"lines+markers\", name = \"predicted price\")\n",
    "\n",
    "layout = go.Layout(title = \"rent prediction\")\n",
    "fig = go.Figure(data=[trace1,trace2], layout = layout)\n",
    "fig.update_layout(template=\"plotly_dark\")\n",
    "fig.show()\n",
    "# plt.figure(figsize=(16,8))\n",
    "# plt.plot(K, silhouette, 'bx-')\n",
    "# plt.xlabel('k')\n",
    "# plt.ylabel('silhouette score')\n",
    "# plt.xticks(np.arange(min(K), max(K)+1, 1.0))\n",
    "# plt.title('Slhouette score showing the optimal k')"
   ]
  }
 ],
 "metadata": {
  "kernelspec": {
   "display_name": "Python 3",
   "language": "python",
   "name": "python3"
  },
  "language_info": {
   "codemirror_mode": {
    "name": "ipython",
    "version": 3
   },
   "file_extension": ".py",
   "mimetype": "text/x-python",
   "name": "python",
   "nbconvert_exporter": "python",
   "pygments_lexer": "ipython3",
   "version": "3.10.2"
  },
  "orig_nbformat": 4
 },
 "nbformat": 4,
 "nbformat_minor": 2
}
